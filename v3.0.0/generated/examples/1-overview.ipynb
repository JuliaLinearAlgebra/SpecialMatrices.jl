{
 "cells": [
  {
   "cell_type": "markdown",
   "source": [
    "# SpecialMatrices overview\n",
    "\n",
    "This page illustrates the Julia package\n",
    "[`SpecialMatrices`](https://github.com/JuliaLinearAlgebra/SpecialMatrices.jl).\n",
    "\n",
    "This package extends the `LinearAlgebra` library\n",
    "with support for special matrices that are used in linear algebra.\n",
    "Every special matrix has its own type\n",
    "and is stored efficiently.\n",
    "Use `Matrix(A)` to access the full matrix if needed.\n",
    "\n",
    "## Related packages\n",
    "\n",
    "[ToeplitzMatrices.jl](https://github.com/JuliaLinearAlgebra/ToeplitzMatrices.jl)\n",
    "supports\n",
    "Toeplitz, Hankel, and circulant matrices."
   ],
   "metadata": {}
  },
  {
   "cell_type": "markdown",
   "source": [
    "### Setup"
   ],
   "metadata": {}
  },
  {
   "cell_type": "markdown",
   "source": [
    "Packages needed here."
   ],
   "metadata": {}
  },
  {
   "outputs": [],
   "cell_type": "code",
   "source": [
    "using SpecialMatrices\n",
    "using Polynomials\n",
    "using LinearAlgebra: factorize, Diagonal"
   ],
   "metadata": {},
   "execution_count": null
  },
  {
   "cell_type": "markdown",
   "source": [
    "## [`Cauchy` matrix](http://en.wikipedia.org/wiki/Cauchy_matrix)"
   ],
   "metadata": {}
  },
  {
   "outputs": [],
   "cell_type": "code",
   "source": [
    "Cauchy(1:3, 2:4)"
   ],
   "metadata": {},
   "execution_count": null
  },
  {
   "outputs": [],
   "cell_type": "code",
   "source": [
    "Cauchy((1., 2.), 1:3)"
   ],
   "metadata": {},
   "execution_count": null
  },
  {
   "outputs": [],
   "cell_type": "code",
   "source": [
    "Cauchy(3)"
   ],
   "metadata": {},
   "execution_count": null
  },
  {
   "cell_type": "markdown",
   "source": [
    "## [`Companion` matrix](http://en.wikipedia.org/wiki/Companion_matrix)"
   ],
   "metadata": {}
  },
  {
   "outputs": [],
   "cell_type": "code",
   "source": [
    "Companion(1:3)"
   ],
   "metadata": {},
   "execution_count": null
  },
  {
   "cell_type": "markdown",
   "source": [
    "From a polynomial"
   ],
   "metadata": {}
  },
  {
   "outputs": [],
   "cell_type": "code",
   "source": [
    "p = Polynomial(4:-1:1)"
   ],
   "metadata": {},
   "execution_count": null
  },
  {
   "outputs": [],
   "cell_type": "code",
   "source": [
    "Companion(p)"
   ],
   "metadata": {},
   "execution_count": null
  },
  {
   "cell_type": "markdown",
   "source": [
    "## [`Frobenius` matrix](http://en.wikipedia.org/wiki/Frobenius_matrix)"
   ],
   "metadata": {}
  },
  {
   "outputs": [],
   "cell_type": "code",
   "source": [
    "F = Frobenius(3, 2:4) # Specify subdiagonals of column 3"
   ],
   "metadata": {},
   "execution_count": null
  },
  {
   "cell_type": "markdown",
   "source": [
    "Special form of inverse:"
   ],
   "metadata": {}
  },
  {
   "outputs": [],
   "cell_type": "code",
   "source": [
    "inv(F)"
   ],
   "metadata": {},
   "execution_count": null
  },
  {
   "cell_type": "markdown",
   "source": [
    "Special form preserved if the same column has the subdiagonals"
   ],
   "metadata": {}
  },
  {
   "outputs": [],
   "cell_type": "code",
   "source": [
    "F * F"
   ],
   "metadata": {},
   "execution_count": null
  },
  {
   "cell_type": "markdown",
   "source": [
    "Otherwise it promotes to a `Matrix`:"
   ],
   "metadata": {}
  },
  {
   "outputs": [],
   "cell_type": "code",
   "source": [
    "F * Frobenius(2, 2:5)"
   ],
   "metadata": {},
   "execution_count": null
  },
  {
   "cell_type": "markdown",
   "source": [
    "Efficient matrix-vector multiplication:"
   ],
   "metadata": {}
  },
  {
   "outputs": [],
   "cell_type": "code",
   "source": [
    "F * (1:6)"
   ],
   "metadata": {},
   "execution_count": null
  },
  {
   "cell_type": "markdown",
   "source": [
    "## [`Hilbert` matrix](http://en.wikipedia.org/wiki/Hilbert_matrix)"
   ],
   "metadata": {}
  },
  {
   "outputs": [],
   "cell_type": "code",
   "source": [
    "H = Hilbert(5)"
   ],
   "metadata": {},
   "execution_count": null
  },
  {
   "cell_type": "markdown",
   "source": [
    "Inverses are also integer matrices:"
   ],
   "metadata": {}
  },
  {
   "outputs": [],
   "cell_type": "code",
   "source": [
    "inv(H)"
   ],
   "metadata": {},
   "execution_count": null
  },
  {
   "cell_type": "markdown",
   "source": [
    "## [`Kahan` matrix](http://math.nist.gov/MatrixMarket/data/MMDELI/kahan/kahan.html)\n",
    "\n",
    "See [N. J. Higham (1987)](https://doi.org/10.1137/1029112)."
   ],
   "metadata": {}
  },
  {
   "outputs": [],
   "cell_type": "code",
   "source": [
    "Kahan(5, 5, 1, 35)"
   ],
   "metadata": {},
   "execution_count": null
  },
  {
   "outputs": [],
   "cell_type": "code",
   "source": [
    "Kahan(5, 3, 0.5, 0)"
   ],
   "metadata": {},
   "execution_count": null
  },
  {
   "outputs": [],
   "cell_type": "code",
   "source": [
    "Kahan(3, 5, 0.5, 1e-3)"
   ],
   "metadata": {},
   "execution_count": null
  },
  {
   "cell_type": "markdown",
   "source": [
    "## `Riemann` matrix\n",
    "\n",
    "A Riemann matrix is defined as\n",
    "`A = B[2:N+1, 2:N+1]`,\n",
    "where\n",
    "`B[i,j] = i-1` if `i` divides `j`, and `-1` otherwise.\n",
    "The [Riemann hypothesis](http://en.wikipedia.org/wiki/Riemann_hypothesis)\n",
    "holds if and only if\n",
    "`det(A) = O( N! N^(-1/2+ϵ))` for every `ϵ > 0`.\n",
    "\n",
    "See\n",
    "[F. Roesler (1986)](https://doi.org/10.1016/0024-3795(86)90255-7)."
   ],
   "metadata": {}
  },
  {
   "outputs": [],
   "cell_type": "code",
   "source": [
    "Riemann(5)"
   ],
   "metadata": {},
   "execution_count": null
  },
  {
   "cell_type": "markdown",
   "source": [
    "## [`Strang` matrix](http://doi.org/10.1137/141000671)\n",
    "\n",
    "A special symmetric, tridiagonal, Toeplitz matrix named after Gilbert Strang."
   ],
   "metadata": {}
  },
  {
   "outputs": [],
   "cell_type": "code",
   "source": [
    "S = Strang(5)"
   ],
   "metadata": {},
   "execution_count": null
  },
  {
   "cell_type": "markdown",
   "source": [
    "The Strang matrix has a special $L D L'$ factorization:"
   ],
   "metadata": {}
  },
  {
   "outputs": [],
   "cell_type": "code",
   "source": [
    "F = factorize(S)"
   ],
   "metadata": {},
   "execution_count": null
  },
  {
   "cell_type": "markdown",
   "source": [
    "Here is a verification:"
   ],
   "metadata": {}
  },
  {
   "outputs": [],
   "cell_type": "code",
   "source": [
    "F.L * Diagonal(F.D) * F.L'"
   ],
   "metadata": {},
   "execution_count": null
  },
  {
   "cell_type": "markdown",
   "source": [
    "## [`Vandermonde` matrix](http://en.wikipedia.org/wiki/Vandermonde_matrix)"
   ],
   "metadata": {}
  },
  {
   "outputs": [],
   "cell_type": "code",
   "source": [
    "a = 1:4\n",
    "V = Vandermonde(a)"
   ],
   "metadata": {},
   "execution_count": null
  },
  {
   "cell_type": "markdown",
   "source": [
    "Adjoint Vandermonde:"
   ],
   "metadata": {}
  },
  {
   "outputs": [],
   "cell_type": "code",
   "source": [
    "V'"
   ],
   "metadata": {},
   "execution_count": null
  },
  {
   "cell_type": "markdown",
   "source": [
    "The backslash operator `\\` is overloaded\n",
    "to solve Vandermonde and adjoint Vandermonde systems\n",
    "in $O(n^2)$ time using the algorithm of\n",
    "[Björck & Pereyra (1970)](https://doi.org/10.2307/2004623)."
   ],
   "metadata": {}
  },
  {
   "outputs": [],
   "cell_type": "code",
   "source": [
    "V \\ a"
   ],
   "metadata": {},
   "execution_count": null
  },
  {
   "outputs": [],
   "cell_type": "code",
   "source": [
    "V' \\ V[3,:]"
   ],
   "metadata": {},
   "execution_count": null
  },
  {
   "cell_type": "markdown",
   "source": [
    "---\n",
    "\n",
    "*This notebook was generated using [Literate.jl](https://github.com/fredrikekre/Literate.jl).*"
   ],
   "metadata": {}
  }
 ],
 "nbformat_minor": 3,
 "metadata": {
  "language_info": {
   "file_extension": ".jl",
   "mimetype": "application/julia",
   "name": "julia",
   "version": "1.8.4"
  },
  "kernelspec": {
   "name": "julia-1.8",
   "display_name": "Julia 1.8.4",
   "language": "julia"
  }
 },
 "nbformat": 4
}
